{
 "cells": [
  {
   "cell_type": "code",
   "execution_count": 2,
   "id": "5ead98b2-6f91-477f-83c5-e2828823c853",
   "metadata": {},
   "outputs": [
    {
     "name": "stdout",
     "output_type": "stream",
     "text": [
      "Distance de référence en pixels: 203.01\n",
      "Surface de la région d'intérêt: 148.52 cm²\n"
     ]
    }
   ],
   "source": [
    "#Télécharger la librairie OpenCV dans un terminal : pip install opencv-python "
   ]
  },
  {
   "cell_type": "code",
   "execution_count": 1,
   "id": "66ebcda1-8563-4d8b-be8e-bddae754a184",
   "metadata": {},
   "outputs": [
    {
     "ename": "ModuleNotFoundError",
     "evalue": "No module named 'cv2'",
     "output_type": "error",
     "traceback": [
      "\u001b[1;31m---------------------------------------------------------------------------\u001b[0m",
      "\u001b[1;31mModuleNotFoundError\u001b[0m                       Traceback (most recent call last)",
      "\u001b[1;32m~\\AppData\\Local\\Temp\\ipykernel_10936\\3554835491.py\u001b[0m in \u001b[0;36m<module>\u001b[1;34m\u001b[0m\n\u001b[1;32m----> 1\u001b[1;33m \u001b[1;32mimport\u001b[0m \u001b[0mcv2\u001b[0m\u001b[1;33m\u001b[0m\u001b[1;33m\u001b[0m\u001b[0m\n\u001b[0m\u001b[0;32m      2\u001b[0m \u001b[1;32mimport\u001b[0m \u001b[0mnumpy\u001b[0m \u001b[1;32mas\u001b[0m \u001b[0mnp\u001b[0m\u001b[1;33m\u001b[0m\u001b[1;33m\u001b[0m\u001b[0m\n\u001b[0;32m      3\u001b[0m \u001b[1;33m\u001b[0m\u001b[0m\n\u001b[0;32m      4\u001b[0m \u001b[1;31m# Variable pour stocker les 2 points de référence\u001b[0m\u001b[1;33m\u001b[0m\u001b[1;33m\u001b[0m\u001b[0m\n\u001b[0;32m      5\u001b[0m \u001b[0mref_points\u001b[0m \u001b[1;33m=\u001b[0m \u001b[1;33m[\u001b[0m\u001b[1;33m]\u001b[0m\u001b[1;33m\u001b[0m\u001b[1;33m\u001b[0m\u001b[0m\n",
      "\u001b[1;31mModuleNotFoundError\u001b[0m: No module named 'cv2'"
     ]
    }
   ],
   "source": [
    "import cv2\n",
    "import numpy as np\n",
    "\n",
    "# Variable pour stocker les 2 points de référence \n",
    "ref_points = []\n",
    "\n",
    "def click_event(event, x, y, flags, param):\n",
    "    global ref_points\n",
    "    # A chaque clic, stocker les coordonnées du point\n",
    "    if event == cv2.EVENT_LBUTTONDOWN:\n",
    "        ref_points.append((x, y))\n",
    "        # Dessiner une ligne entre les deux points sélectionnés\n",
    "        if len(ref_points) == 2:\n",
    "            cv2.line(image, ref_points[0], ref_points[1], (255, 0, 0), 2)\n",
    "            cv2.imshow('image', image)\n",
    "            distance = np.sqrt((ref_points[0][0] - ref_points[1][0])**2 + (ref_points[0][1] - ref_points[1][1])**2) # Calcul de distance en pixels \n",
    "            print(\"Distance de référence en pixels: \", distance)\n",
    "\n",
    "# Charger l'image\n",
    "image = cv2.imread('C:/Users/eliot/OneDrive/Images/Goupil_dim.jpg')\n",
    "\n",
    "# Afficher l'image et configurer la fonction de clic\n",
    "cv2.imshow('image', image)\n",
    "cv2.setMouseCallback('image', click_event)\n",
    "\n",
    "# Attendre que l'utilisateur appuie sur une touche (e.g. échap) pour clean la fenetre\n",
    "cv2.waitKey(0)\n",
    "cv2.destroyAllWindows()\n",
    "\n",
    "# Sauvegarder les points de référence et la distance en pixels\n",
    "if len(ref_points) == 2:\n",
    "    p1, p2 = ref_points\n",
    "    distance_in_pixels = np.sqrt((p1[0] - p2[0])**2 + (p1[1] - p2[1])**2)\n",
    "    print(f\"Distance de référence sauvegardée: {distance_in_pixels:.2f} pixels\")\n",
    "    with open('distance_pixels.txt', 'w') as f:\n",
    "        f.write(f\"{distance_in_pixels}\\n\")"
   ]
  },
  {
   "cell_type": "code",
   "execution_count": 2,
   "id": "14b88c76-6716-4438-b6a1-0a13d3430c76",
   "metadata": {},
   "outputs": [
    {
     "ename": "NameError",
     "evalue": "name 'cv2' is not defined",
     "output_type": "error",
     "traceback": [
      "\u001b[1;31m---------------------------------------------------------------------------\u001b[0m",
      "\u001b[1;31mNameError\u001b[0m                                 Traceback (most recent call last)",
      "\u001b[1;32m~\\AppData\\Local\\Temp\\ipykernel_10936\\2199346711.py\u001b[0m in \u001b[0;36m<module>\u001b[1;34m\u001b[0m\n\u001b[0;32m     14\u001b[0m \u001b[1;33m\u001b[0m\u001b[0m\n\u001b[0;32m     15\u001b[0m \u001b[1;31m# Charger l'image\u001b[0m\u001b[1;33m\u001b[0m\u001b[1;33m\u001b[0m\u001b[0m\n\u001b[1;32m---> 16\u001b[1;33m \u001b[0mimage\u001b[0m \u001b[1;33m=\u001b[0m \u001b[0mcv2\u001b[0m\u001b[1;33m.\u001b[0m\u001b[0mimread\u001b[0m\u001b[1;33m(\u001b[0m\u001b[1;34m'C:/Users/eliot/OneDrive/Images/Goupil_dim.jpg'\u001b[0m\u001b[1;33m)\u001b[0m\u001b[1;33m\u001b[0m\u001b[1;33m\u001b[0m\u001b[0m\n\u001b[0m\u001b[0;32m     17\u001b[0m \u001b[1;33m\u001b[0m\u001b[0m\n\u001b[0;32m     18\u001b[0m \u001b[1;31m# Référence et mise à échelle\u001b[0m\u001b[1;33m\u001b[0m\u001b[1;33m\u001b[0m\u001b[0m\n",
      "\u001b[1;31mNameError\u001b[0m: name 'cv2' is not defined"
     ]
    }
   ],
   "source": [
    "#\n",
    "\n",
    "# Variable globale pour stocker les points de la région d'intérêt\n",
    "region_points = []\n",
    "\n",
    "def click_event(event, x, y, flags, param):\n",
    "    global region_points\n",
    "    # Si l'utilisateur clique pour définir la région d'intérêt\n",
    "    if event == cv2.EVENT_LBUTTONDOWN:\n",
    "        region_points.append((x, y))\n",
    "        if len(region_points) > 1:\n",
    "            cv2.line(image, region_points[-2], region_points[-1], (255, 0, 0), 2)\n",
    "        cv2.imshow('image', image)\n",
    "\n",
    "# Charger l'image\n",
    "image = cv2.imread('C:/Users/eliot/OneDrive/Images/Goupil_dim.jpg')\n",
    "\n",
    "# Référence et mise à échelle\n",
    "try:\n",
    "    with open('distance_pixels.txt', 'r') as f:\n",
    "        distance_in_pixels = float(f.readline().strip())\n",
    "        known_length_m = 1.20  # Longueur réelle de l'échelle en cm (à ajuster selon l'échelle réelle)\n",
    "        pixels_per_unit = distance_in_pixels / known_length_m\n",
    "except FileNotFoundError:\n",
    "    print(\"Erreur: Le fichier distance_pixels.txt n'a pas été trouvé. Veuillez exécuter la première partie pour définir l'échelle.\")\n",
    "    exit()\n",
    "\n",
    "# Afficher l'image et configurer la fonction de clic\n",
    "cv2.imshow('image', image)\n",
    "cv2.setMouseCallback('image', click_event)\n",
    "\n",
    "# Attendre que l'utilisateur appuie sur une touche\n",
    "cv2.waitKey(0)\n",
    "cv2.destroyAllWindows()\n",
    "\n",
    "# Calculer la surface (faut au moins que trois points aient été sélectionnés)\n",
    "if len(region_points) > 2:\n",
    "    contour = np.array(region_points)\n",
    "    area_pixels = cv2.contourArea(contour)\n",
    "    area_real_units = area_pixels / (pixels_per_unit ** 2)\n",
    "    print(f\"Surface de pénétration dans l'air : {area_real_units:.2f} m²\")\n",
    "else:\n",
    "    print(\"Veuillez sélectionner au moins 3 points pour définir une région.\")\n"
   ]
  },
  {
   "cell_type": "code",
   "execution_count": 3,
   "id": "83621157-7535-4d76-ae15-fd19af284bfe",
   "metadata": {},
   "outputs": [
    {
     "name": "stdout",
     "output_type": "stream",
     "text": [
      "Help on built-in function imshow:\n",
      "\n",
      "imshow(...)\n",
      "    imshow(winname, mat) -> None\n",
      "    .   @brief Displays an image in the specified window.\n",
      "    .   \n",
      "    .   The function imshow displays an image in the specified window. If the window was created with the\n",
      "    .   cv::WINDOW_AUTOSIZE flag, the image is shown with its original size, however it is still limited by the screen resolution.\n",
      "    .   Otherwise, the image is scaled to fit the window. The function may scale the image, depending on its depth:\n",
      "    .   \n",
      "    .   -   If the image is 8-bit unsigned, it is displayed as is.\n",
      "    .   -   If the image is 16-bit unsigned, the pixels are divided by 256. That is, the\n",
      "    .       value range [0,255\\*256] is mapped to [0,255].\n",
      "    .   -   If the image is 32-bit or 64-bit floating-point, the pixel values are multiplied by 255. That is, the\n",
      "    .       value range [0,1] is mapped to [0,255].\n",
      "    .   -   32-bit integer images are not processed anymore due to ambiguouty of required transform.\n",
      "    .       Convert to 8-bit unsigned matrix using a custom preprocessing specific to image's context.\n",
      "    .   \n",
      "    .   If window was created with OpenGL support, cv::imshow also support ogl::Buffer , ogl::Texture2D and\n",
      "    .   cuda::GpuMat as input.\n",
      "    .   \n",
      "    .   If the window was not created before this function, it is assumed creating a window with cv::WINDOW_AUTOSIZE.\n",
      "    .   \n",
      "    .   If you need to show an image that is bigger than the screen resolution, you will need to call namedWindow(\"\", WINDOW_NORMAL) before the imshow.\n",
      "    .   \n",
      "    .   @note This function should be followed by a call to cv::waitKey or cv::pollKey to perform GUI\n",
      "    .   housekeeping tasks that are necessary to actually show the given image and make the window respond\n",
      "    .   to mouse and keyboard events. Otherwise, it won't display the image and the window might lock up.\n",
      "    .   For example, **waitKey(0)** will display the window infinitely until any keypress (it is suitable\n",
      "    .   for image display). **waitKey(25)** will display a frame and wait approximately 25 ms for a key\n",
      "    .   press (suitable for displaying a video frame-by-frame). To remove the window, use cv::destroyWindow.\n",
      "    .   \n",
      "    .   @note [__Windows Backend Only__] Pressing Ctrl+C will copy the image to the clipboard. Pressing Ctrl+S will show a dialog to save the image.\n",
      "    .   @note [__Wayland Backend Only__] Supoorting format is extended.\n",
      "    .   -   If the image is 8-bit signed, the pixels are biased by 128. That is, the\n",
      "    .       value range [-128,127] is mapped to [0,255].\n",
      "    .   -   If the image is 16-bit signed, the pixels are divided by 256 and biased by 128. That is, the\n",
      "    .       value range [-32768,32767] is mapped to [0,255].\n",
      "    .   \n",
      "    .   @param winname Name of the window.\n",
      "    .   @param mat Image to be shown.\n",
      "\n"
     ]
    }
   ],
   "source": [
    "help(cv2.imshow)"
   ]
  }
 ],
 "metadata": {
  "kernelspec": {
   "display_name": "Python 3 (ipykernel)",
   "language": "python",
   "name": "python3"
  },
  "language_info": {
   "codemirror_mode": {
    "name": "ipython",
    "version": 3
   },
   "file_extension": ".py",
   "mimetype": "text/x-python",
   "name": "python",
   "nbconvert_exporter": "python",
   "pygments_lexer": "ipython3",
   "version": "3.9.13"
  }
 },
 "nbformat": 4,
 "nbformat_minor": 5
}
