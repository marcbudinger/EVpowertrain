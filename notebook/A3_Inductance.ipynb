{
 "cells": [
  {
   "cell_type": "markdown",
   "metadata": {},
   "source": [
    "# Caractérisitque de l'inductance de filtrage"
   ]
  },
  {
   "cell_type": "markdown",
   "metadata": {},
   "source": [
    "L'inductance a les caractéristique suivante :\n",
    "- Inductance de 85 µH\n",
    "- Courant max efficace de 140 A\n",
    "- Résistance de bobinage de 1.26e-03 Ohm\n",
    "- Masse de cuivre de 0.48 kg et masse de fer de 0.55 kg\n",
    "\n",
    "Elles ont été estimée à l'aide des calculs suivants."
   ]
  },
  {
   "cell_type": "markdown",
   "metadata": {
    "slideshow": {
     "slide_type": "slide"
    }
   },
   "source": [
    "# Sizing code of an inductor\n",
    "*Written by Marc Budinger, INSA Toulouse, France*"
   ]
  },
  {
   "cell_type": "markdown",
   "metadata": {},
   "source": [
    "The objective of this notebook is to set up the sizing procedure of a power inductance. This procedure will subsequently be completed and integrated into the design procedure of the complete DC / DC converter.\n",
    "We will see here successively: \n",
    "- the physical structure of an inductor;    \n",
    "- the equations (electromagnetism) which characterize the inductor;  \n",
    "- design graph of the sizing problem and the generation of the pseudo code;    \n",
    "- the python code and optimization of the sizing problem.  \n",
    "  "
   ]
  },
  {
   "cell_type": "markdown",
   "metadata": {},
   "source": [
    "## Structure of an inductor \n",
    "\n",
    "A power inductor is mainly composed of a winding and a magnetic core. \n",
    "\n",
    "![PowerInductor](https://raw.githubusercontent.com/SizingLab/sizing_course/main/laboratories/Lab-watt_project/assets/images/PowerInductor.png)\n",
    "\n",
    "There are different types of inductances that differ in the shape and material of the ferromagnetic core. The following figure shows two forms of ferrite pots. Generally, ferromagnetic cores of inductances respect geometrical similarities. In other words, all geometric ratios are preserved when the geometric dimensions change. \n",
    "\n",
    "![InductorCore](https://raw.githubusercontent.com/SizingLab/sizing_course/main/laboratories/Lab-watt_project/assets/images/InductorCore.PNG)\n"
   ]
  },
  {
   "cell_type": "markdown",
   "metadata": {},
   "source": [
    "## Characteristical equations of an inductor\n",
    "\n",
    "We will give here the equations allowing to calculate an inductance starting from its geometrical configuration. Here we use a ferrite pot with a E core geometry (as shown below). \n",
    "\n",
    "![PowerInductor](pictures/E_CoreInductor.png)\n",
    "\n",
    "An inductance $L$ expresses the relationship between a current $I$ and a magnetic flux $\\phi$:\n",
    "$\\phi=LI$\n",
    "\n",
    "The magnetic flux is calculated by surface integration of the magnetic field $B$:\n",
    "$\\varphi= \\iint\\vec{B}.d\\vec{S}$ \n",
    "\n",
    "The inductance contains generally a coil of multiple turns (N turns) which see the global magnetic flux:\n",
    "$\\phi=N.\\varphi$ \n",
    "\n",
    "The Lenz Law express the induced voltage $e$ in a winding of N turns: $e=-Ndφ/dt$   \n",
    "With receptor convention, the Lenz Law gives the well-known relation for an inductance (auto-induction): \n",
    "$U=LdI/dt$\n",
    "\n",
    "The Magnetic field $B$ can be evaluated with the following relationships:  \n",
    " - The conservation of the magnetic flow: $\\iint\\vec{B}.d\\vec{S}=0$ for a closed surface or $\\iint\\vec{B_{in}}.d\\vec{S}=\\iint\\vec{B_{out}}.d\\vec{S}$  \n",
    " - The Ampere theorem: $\\oint \\frac{\\vec{B}}{\\mu}.d\\vec{l}=NI$\n",
    "with $\\mu=\\mu_0\\mu_r$ the permeability of materials ($\\mu_0=4\\pi10^{-7}$).\n",
    "\n",
    "A winding with multiple turns and the use of ferromagnetic material with high $\\mu_r$ increase the induction. \n",
    "\n",
    "> Exercice: demonstrate that the stored magnetic energy and inductance value can be expressed by the following relationships    \n",
    "$\\frac{1}{2}LI^2=\\frac{1}{2}\\frac{B^2}{\\mu_0}2A_{iron}e$ and $L=N^2\\frac{\\mu_0A_{iron}}{2e}$\n"
   ]
  },
  {
   "cell_type": "markdown",
   "metadata": {},
   "source": [
    "## Design graph\n",
    "\n",
    "The equations that can be used for the inductor design are given below:  \n",
    "![InductorEquations](https://raw.githubusercontent.com/SizingLab/sizing_course/main/laboratories/Lab-watt_project/assets/images/DesignGraphInductorEquations.png)\n",
    "\n",
    "\n",
    "> Exercice: Give the scaling laws usefull for the problem (part 5 of equations)\n"
   ]
  },
  {
   "cell_type": "markdown",
   "metadata": {},
   "source": [
    "These equations can be represented graphically on a non oriented design graph:\n",
    "![InductorEquations](https://raw.githubusercontent.com/SizingLab/sizing_course/main/laboratories/Lab-watt_project/assets/images/DesignGraphInductor.png)\n",
    "\n",
    "> Exercice: Orientate the diagram and give the nature of each parameter (input, constraint, objective, ...).\n"
   ]
  },
  {
   "cell_type": "markdown",
   "metadata": {},
   "source": [
    "> Exercice: Give now the pseudo-code wich can be used for an inductor sizing.  \n",
    "\n",
    "![InductorEquations](https://raw.githubusercontent.com/SizingLab/sizing_course/main/laboratories/Lab-watt_project/assets/images/PseudoCodeInductor.png)"
   ]
  },
  {
   "cell_type": "markdown",
   "metadata": {
    "slideshow": {
     "slide_type": "slide"
    }
   },
   "source": [
    "## Objectives and specifications\n",
    "\n",
    "\n",
    "\n"
   ]
  },
  {
   "cell_type": "code",
   "execution_count": 15,
   "metadata": {
    "slideshow": {
     "slide_type": "slide"
    }
   },
   "outputs": [],
   "source": [
    "# Specifications\n",
    "IL_max=150 # [A] max current\n",
    "IL_RMS=140 # [A] RMS current\n",
    "L=85e-6 # [H] Inductance\n",
    " \n",
    "# Assumptions\n",
    "J=5e6 # [A/m²] Current density\n",
    "B_mag_max=1.5 # [T] Induction\n",
    "k_bob=0.33 # [-] winding coefficient\n",
    "\n",
    "# Physical constants\n",
    "mu_0=4*3.14e-7 # [SI] permeability\n",
    "\n"
   ]
  },
  {
   "cell_type": "markdown",
   "metadata": {
    "slideshow": {
     "slide_type": "slide"
    }
   },
   "source": [
    "## Sizing code"
   ]
  },
  {
   "cell_type": "markdown",
   "metadata": {
    "slideshow": {
     "slide_type": "slide"
    }
   },
   "source": [
    "More details in the setting up of sizing code can be found in the  [following paper](https://www.researchgate.net/profile/Marc_Budinger/publication/277933677_Computer-aided_definition_of_sizing_procedures_and_optimization_problems_of_mechatronic_systems/links/55969de508ae793d137c7ea5/Computer-aided-definition-of-sizing-procedures-and-optimization-problems-of-mechatronic-systems.pdf):  \n",
    "\n",
    "> Reysset, A., Budinger, M., & Maré, J. C. (2015). Computer-aided definition of sizing procedures and optimization problems of mechatronic systems. Concurrent Engineering, 23(4), 320-332.\n",
    "\n",
    "The sizing code is defined here in a function which can give an evaluation of the objective and an evaluation of the constraints.\n",
    "\n",
    "We can take as reference the following E-core :\n",
    "![Ecore](https://raw.githubusercontent.com/SizingLab/sizing_course/main/laboratories/Lab-watt_project/assets/images/E_CoreInductor_2.PNG)"
   ]
  },
  {
   "cell_type": "code",
   "execution_count": 16,
   "metadata": {
    "slideshow": {
     "slide_type": "slide"
    }
   },
   "outputs": [],
   "source": [
    "import scipy\n",
    "import scipy.optimize\n",
    "from math import pi, sqrt\n",
    "import timeit\n",
    "\n",
    "# Reference parameters for scaling laws (E core)\n",
    "\n",
    "Airon_ref=738e-6    # [m^2] iron surface\n",
    "\n",
    "A_ref=100.3e-3    # [m] E core dimension\n",
    "B_ref=73.15e-3    # [m] E core dimension\n",
    "C_ref=27.5e-3     # [m] E core dimension\n",
    "D_ref=46.85e-3     # [m] E core dimension\n",
    "E_ref=59.4e-3     # [m] E core dimension\n",
    "F_ref=27.5e-3     # [m] E core dimension\n",
    "\n",
    "M_ref=493e-3  # [kg] 1 E core mass\n",
    "\n",
    "# -----------------------\n",
    "# sizing code\n",
    "# -----------------------\n",
    "# inputs: \n",
    "# - param: optimisation variables vector \n",
    "# - arg: selection of output  \n",
    "# output: \n",
    "# - objective if arg='Obj', problem characteristics if arg='Prt', constraints other else\n",
    "\n",
    "def SizingCode(param, arg):\n",
    "    # Variables\n",
    "    e=param[0] # [m] air gap\n",
    "    B_mag=param[1] # [T] induction\n",
    "    \n",
    "    # Magnetic energy calculation\n",
    "    E_mag=1/2*L*IL_max**2 # [J] Energy\n",
    "    A_iron= E_mag*2*mu_0/B_mag**2/2/e # [m^2] Iron surface\n",
    "    \n",
    "    # Reluctance and inductance\n",
    "    Re=2*e/mu_0/A_iron  # [] reluctance\n",
    "    N=sqrt(L*Re) # [-] turn number\n",
    "    \n",
    "    # Wire section & winding surface\n",
    "    S_w=IL_RMS/J # [m²] 1 wire section area\n",
    "    S_bob=N*S_w/k_bob # [m^2] winding surface\n",
    "    \n",
    "    # E core scaling\n",
    "    A=A_ref*(A_iron/Airon_ref)**(1/2) # [m] A core dimension\n",
    "    B=B_ref*(A_iron/Airon_ref)**(1/2) # [m] B core dimension\n",
    "    C=C_ref*(A_iron/Airon_ref)**(1/2) # [m] C core dimension\n",
    "    D=D_ref*(A_iron/Airon_ref)**(1/2) # [m] D core dimension\n",
    "    E=E_ref*(A_iron/Airon_ref)**(1/2) # [m] E core dimension\n",
    "    F=F_ref*(A_iron/Airon_ref)**(1/2) # [m] F core dimension\n",
    "    \n",
    "    M_core =M_ref*(A_iron/Airon_ref)**(3/2) # [kg] one E core mass\n",
    "    \n",
    "    # Core winding surface\n",
    "    A_core_winding=2*D*(B-C)/2\n",
    "    e_max=0.1*C\n",
    "    \n",
    "    # Mass\n",
    "    M_copper=2*pi*(B+C)/4*N*S_w*7800\n",
    "    M_total=M_copper+M_core*2\n",
    "    \n",
    "    # Coil resistance\n",
    "    Rmoy=(B+C)/4 # [m] Mean radius\n",
    "    Lfil=N*2*3.14*Rmoy # [m] Copper wire length\n",
    "\n",
    "    Rho=1.6e-8 # [Ohm.m] copper resisitivity\n",
    "    R=Rho*Lfil/S_w # [Ohm] coil resistance\n",
    "    \n",
    "        # Objective and contraints\n",
    "    if arg=='Obj':\n",
    "        return M_total\n",
    "    elif arg=='Prt':\n",
    "        print(\"* Optimisation variables:\")\n",
    "        print(\"           Airgap e = %.2f mm\"% (e*1e3))\n",
    "        print(\"           Induction B = %.2f T\"% (B_mag))\n",
    "        print(\"* Components characteristics:\")\n",
    "        print(\"           Core (2) mass = %.2f kg\" % (2*M_core))\n",
    "        print(\"           Coil mass = %.2f kg\" % M_copper)\n",
    "        print(\"           Core dimensions = %.0f x %.0f x %.0f mmm\"%((A*1e3,2*E*1e3,2*F*1e3)))\n",
    "        print(\"           A_iron = %.0f mm^2\"%(A_iron*1e6))\n",
    "        print(\"           Number of turns = %i\"%(N))\n",
    "        print(\"           Coil resistance = %.2e Ohm\"%(R))\n",
    "        \n",
    "        print(\"* Constraints (should be >0):\")\n",
    "        print(\"           Winding  surface margin = %.3f mm²\" % ((A_core_winding-S_bob)*1e6))\n",
    "        print(\"           Airgap margin = %.3f mm\" %((e_max-e)*1e3))\n",
    "    else:\n",
    "        return [A_core_winding-S_bob, e_max-e]\n"
   ]
  },
  {
   "cell_type": "markdown",
   "metadata": {
    "slideshow": {
     "slide_type": "slide"
    }
   },
   "source": [
    "## Optimization problem\n"
   ]
  },
  {
   "cell_type": "markdown",
   "metadata": {},
   "source": [
    "We will now use the [opmization algorithms](https://docs.scipy.org/doc/scipy/reference/optimize.html) of the Scipy package to solve and optimize the configuration. We use here the SLQP algorithm without explicit expression of the gradient (Jacobian). A short course on Multidisplinary Gradient optimization algorithms and gradient optimization algorithm is given [here](http://mdolab.engin.umich.edu/sites/default/files/Martins-MDO-course-notes.pdf):\n",
    "> Joaquim R. R. A. Martins (2012). A Short Course on Multidisciplinary Design Optimization. Univeristy of Michigan\n"
   ]
  },
  {
   "cell_type": "markdown",
   "metadata": {},
   "source": [
    "The first step is to give an initial value of optimisation variables:"
   ]
  },
  {
   "cell_type": "code",
   "execution_count": 17,
   "metadata": {},
   "outputs": [],
   "source": [
    "#Variables d'optimisation\n",
    "e=10e-3 # [m] airgap\n",
    "B=1.2 # [T] Induction\n",
    "\n",
    "# Vector of parameters\n",
    "parameters = [e, B]\n"
   ]
  },
  {
   "cell_type": "markdown",
   "metadata": {
    "slideshow": {
     "slide_type": "slide"
    }
   },
   "source": [
    "We can print of the characteristics of the problem before optimization with the intitial vector of optimization variables:"
   ]
  },
  {
   "cell_type": "code",
   "execution_count": 18,
   "metadata": {},
   "outputs": [
    {
     "name": "stdout",
     "output_type": "stream",
     "text": [
      "-----------------------------------------------\n",
      "Initial characteristics before optimization :\n",
      "* Optimisation variables:\n",
      "           Airgap e = 10.00 mm\n",
      "           Induction B = 1.20 T\n",
      "* Components characteristics:\n",
      "           Core (2) mass = 0.04 kg\n",
      "           Coil mass = 1.48 kg\n",
      "           Core dimensions = 34 x 40 x 18 mmm\n",
      "           A_iron = 83 mm^2\n",
      "           Number of turns = 127\n",
      "           Coil resistance = 3.87e-03 Ohm\n",
      "* Constraints (should be >0):\n",
      "           Winding  surface margin = -10567.015 mm²\n",
      "           Airgap margin = -9.076 mm\n",
      "-----------------------------------------------\n"
     ]
    }
   ],
   "source": [
    "# Initial characteristics before optimization \n",
    "print(\"-----------------------------------------------\")\n",
    "print(\"Initial characteristics before optimization :\")\n",
    "\n",
    "SizingCode(parameters, 'Prt')\n",
    "print(\"-----------------------------------------------\")\n"
   ]
  },
  {
   "cell_type": "markdown",
   "metadata": {
    "slideshow": {
     "slide_type": "slide"
    }
   },
   "source": [
    "Then we can solve the problem and print of the optimized solution:"
   ]
  },
  {
   "cell_type": "code",
   "execution_count": 19,
   "metadata": {},
   "outputs": [
    {
     "name": "stdout",
     "output_type": "stream",
     "text": [
      "Optimization terminated successfully    (Exit mode 0)\n",
      "            Current function value: 1.0317239019846212\n",
      "            Iterations: 12\n",
      "            Function evaluations: 46\n",
      "            Gradient evaluations: 12\n",
      "-----------------------------------------------\n",
      "Final characteristics after optimization :\n",
      "* Optimisation variables:\n",
      "           Airgap e = 1.07 mm\n",
      "           Induction B = 1.50 T\n",
      "* Components characteristics:\n",
      "           Core (2) mass = 0.55 kg\n",
      "           Coil mass = 0.48 kg\n",
      "           Core dimensions = 82 x 98 x 45 mmm\n",
      "           A_iron = 499 mm^2\n",
      "           Number of turns = 17\n",
      "           Coil resistance = 1.26e-03 Ohm\n",
      "* Constraints (should be >0):\n",
      "           Winding  surface margin = 0.143 mm²\n",
      "           Airgap margin = 1.191 mm\n",
      "-----------------------------------------------\n"
     ]
    }
   ],
   "source": [
    "# optimization with SLSQP algorithm\n",
    "contrainte=lambda x: SizingCode(x, 'Const')\n",
    "objectif=lambda x: SizingCode(x, 'Obj')\n",
    "result = scipy.optimize.fmin_slsqp(func=objectif, x0=parameters, \n",
    "                                   bounds=[(.1e-3,10e-3), (0,B_mag_max)],\n",
    "                                   f_ieqcons=contrainte, iter=100, acc=1e-4)\n",
    "\n",
    "# Final characteristics after optimization \n",
    "print(\"-----------------------------------------------\")\n",
    "print(\"Final characteristics after optimization :\")\n",
    "\n",
    "SizingCode(result, 'Prt')\n",
    "print(\"-----------------------------------------------\")\n",
    "\n"
   ]
  },
  {
   "cell_type": "code",
   "execution_count": null,
   "metadata": {},
   "outputs": [],
   "source": []
  },
  {
   "cell_type": "code",
   "execution_count": null,
   "metadata": {},
   "outputs": [],
   "source": []
  },
  {
   "cell_type": "code",
   "execution_count": null,
   "metadata": {},
   "outputs": [],
   "source": []
  }
 ],
 "metadata": {
  "celltoolbar": "Slideshow",
  "kernelspec": {
   "display_name": "Python 3 (ipykernel)",
   "language": "python",
   "name": "python3"
  },
  "language_info": {
   "codemirror_mode": {
    "name": "ipython",
    "version": 3
   },
   "file_extension": ".py",
   "mimetype": "text/x-python",
   "name": "python",
   "nbconvert_exporter": "python",
   "pygments_lexer": "ipython3",
   "version": "3.9.13"
  }
 },
 "nbformat": 4,
 "nbformat_minor": 4
}
