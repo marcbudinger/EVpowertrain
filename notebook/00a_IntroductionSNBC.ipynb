{
 "cells": [
  {
   "cell_type": "markdown",
   "metadata": {},
   "source": [
    "# Empreinte carbone de la mobilité\n",
    "\n",
    "*Written by Marc Budinger, INSA Toulouse, France*\n"
   ]
  },
  {
   "cell_type": "markdown",
   "metadata": {},
   "source": [
    "## Stratégie Nationale Bas-Carbone\n",
    "\n",
    "La Stratégie Nationale Bas-Carbone ([SNBC](https://www.ecologie.gouv.fr/sites/default/files/19092_strategie-carbone-EN_oct-20.pdf)) est la feuille de route de la France pour réduire ses émissions de gaz à effet de serre (GES). Elle concerne tous les secteurs d'activité et doit être portée par tous : citoyens, collectivités locales et entreprises. L'objectif est de diviser par 5 les émissions de gaz à effet de serre d'ici 2050 par rapport à 2015. Les transports représentent une part importante de ces émissions (environ 30 %) et devront donc évoluer pour atteindre ces objectifs. \n",
    "\n",
    "*Émissions de gaz à effet de serre (GES) et absorption en France en 2017 - Scénario prospectif de la SNCB pour atteindre la neutralité carbone en 2050*\n",
    "\n",
    "![SNBC](./figures/French_SNCB.png)\n",
    "\n",
    "## Leviers clés de la décarbonisation des transports\n",
    "\n",
    "Les travaux d'Aurélien Bigo [[Bigo, 2020](#Références)] sur l'impact CO2 des transports retiennent cinq facteurs ou cinq leviers de décarbonation : la demande, le report modal, le taux d'occupation, l'efficacité énergétique et l'intensité carbone. Des véhicules électriques peuvent participer à la décabornation des transports s'ils sont utilisés à la place de transports plus polluants.  \n",
    "\n",
    "*Les cinq leviers clés de la décarbonisation des transports, utilisés dans la décomposition des émissions*\n",
    "![Levers](./figures/TransportCO2.PNG)\n",
    "\n",
    "> **Question:** Proposer des exemples de moyens de décarbonisation des transports en se basant sur la décomposition présentée sur la figure ci-dessus."
   ]
  },
  {
   "cell_type": "markdown",
   "metadata": {},
   "source": [
    "## Références\n",
    "\n",
    "[Bigo, 2020] Bigo, A. (2020). Transport facing the challenge of energy transition. Explorations between the past and the future, technology and sufficiency, acceleration and slowdown (Doctoral dissertation, Institut Polytechnique de Paris).  \n",
    "\n"
   ]
  },
  {
   "cell_type": "code",
   "execution_count": null,
   "metadata": {},
   "outputs": [],
   "source": []
  }
 ],
 "metadata": {
  "kernelspec": {
   "display_name": "Python 3 (ipykernel)",
   "language": "python",
   "name": "python3"
  },
  "language_info": {
   "codemirror_mode": {
    "name": "ipython",
    "version": 3
   },
   "file_extension": ".py",
   "mimetype": "text/x-python",
   "name": "python",
   "nbconvert_exporter": "python",
   "pygments_lexer": "ipython3",
   "version": "3.9.13"
  }
 },
 "nbformat": 4,
 "nbformat_minor": 4
}
