{
 "cells": [
  {
   "cell_type": "markdown",
   "id": "0a1c3f45-bcd9-4973-9680-e1688cd794ce",
   "metadata": {},
   "source": [
    "# Simulation d'un hacheur\n",
    "\n",
    "\n",
    "##  Convertisseur statique et motorisation électrique\n"
   ]
  },
  {
   "cell_type": "markdown",
   "id": "85a651d4",
   "metadata": {},
   "source": [
    "## Simulation d'un convertisseur DC/DC à découpage\n",
    "\n"
   ]
  },
  {
   "cell_type": "markdown",
   "id": "31dd6cd0",
   "metadata": {},
   "source": [
    "## Modèle moyen de hacheur\n",
    "\n"
   ]
  },
  {
   "cell_type": "markdown",
   "id": "a8ec90e8",
   "metadata": {},
   "source": [
    "## Calcul des pertes en conduction et commutation\n"
   ]
  },
  {
   "cell_type": "code",
   "execution_count": null,
   "id": "eeb3e6af",
   "metadata": {},
   "outputs": [],
   "source": []
  }
 ],
 "metadata": {
  "kernelspec": {
   "display_name": "Python 3 (ipykernel)",
   "language": "python",
   "name": "python3"
  },
  "language_info": {
   "codemirror_mode": {
    "name": "ipython",
    "version": 3
   },
   "file_extension": ".py",
   "mimetype": "text/x-python",
   "name": "python",
   "nbconvert_exporter": "python",
   "pygments_lexer": "ipython3",
   "version": "3.9.13"
  }
 },
 "nbformat": 4,
 "nbformat_minor": 5
}
