{
 "cells": [
  {
   "cell_type": "markdown",
   "id": "0a1c3f45-bcd9-4973-9680-e1688cd794ce",
   "metadata": {},
   "source": [
    "# Batteries de traction : panorama\n",
    "\n",
    "*Ecrit par Marc Budinger, INSA Toulouse, France*"
   ]
  },
  {
   "cell_type": "markdown",
   "id": "31dd6cd0",
   "metadata": {},
   "source": [
    "## De la cellule au pack batterie\n",
    "\n",
    "Les batteries de traction pour VE sont constituées de cellules regroupées selon une hiérarchie structurée :  \n",
    "- **Cellules :** Ce sont les unités élémentaires (cylindriques, prismatiques ou pouch) fournissant l'énergie. \n",
    "   - Cellules cylindriques (18650, 21700)\n",
    "   - Cellules prismatiques\n",
    "   - Cellules pouch (ou sachet)\n",
    "- **Modules :**  Groupes de cellules organisées en configurations série, parallèle ou combinées (exemple : 10S2P). Le rôle du module est de faciliter l'assemblage et la maintenance. Il permet d'intégrer des capteurs pour surveiller la tension, le courant et la température et simplifie la gestion thermique et électrique.  \n",
    "- **Pack de batteries :** Assemblage de plusieurs modules pour répondre aux besoins énergétiques et de puissance du véhicule. C'est lui qui fournit l'énergie nécessaire pour propulser le moteur électrique et alimenter les systèmes auxiliaires.  \n",
    "\n",
    "*Formes des cellules*   \n",
    "![Formes des cellules](./figures/CellsFormats.png)  \n",
    ":::{dropdown} Chimies des cellules    \n",
    "Les cellules de batteries utilisent différentes chimies, chacune ayant des avantages et des inconvénients en termes de densité énergétique, de durée de vie, de sécurité et de coût. Voici les principales chimies :\n",
    "- **Lithium-ion (Li-ion)**:\n",
    "   - NMC (Nickel-Manganèse-Cobalt) : Bonne densité énergétique, utilisé dans les véhicules électriques (VE).  \n",
    "   - LFP (Lithium-Fer-Phosphate) : Moins dense en énergie que NMC mais plus sûr et plus durable.  \n",
    "   - NCA (Nickel-Cobalt-Aluminium) : Densité énergétique élevée, gestion complexe, utilisé notamment par Tesla.  \n",
    "   - LTO (Lithium-Titanate-Oxyde) : Longue durée de vie et excellente sécurité, mais faible densité énergétique.\n",
    "   - LiPo (Lithium Polymère) : se caractérise par une densité d'énergie élevée, une forme flexible grâce à son électrolyte sous forme de gel polymère,\n",
    "- **Plomb-acide :** Technologie ancienne, faible coût mais faible densité énergétique. Principalement utilisé pour les systèmes de démarrage ou le stockage stationnaire.\n",
    "- **Nickel (NiCd, NiMH) :** Obsolète pour la plupart des applications modernes. Le NiMH est encore utilisé dans certaines applications hybrides.\n",
    "- **Sodium-ion :**  Une alternative émergente, moins coûteuse et plus respectueuse de l'environnement, mais moins dense énergétiquement que le Li-ion.\n",
    ":::\n",
    "\n",
    "*Architecture d'une [batterie de traction](https://lythbattery.com/what-is-battery-module)*  \n",
    "![Cell to Pack](./figures/Cell2Pack.png)\n",
    "\n",
    ":::{dropdown} Elements technologiques complémentaires    \n",
    "Les batteries de traction doivent être protégées et optimisées pour garantir leur sécurité, leur efficacité et leur durabilité. Voici les technologies clés :\n",
    "- **BMS (Battery Management System) :** Le BMS est l’unité de gestion électronique essentielle pour le bon fonctionnement des batteries. Fonctions principales :\n",
    "   - Surveillance : Mesure les tensions, les courants et les températures des cellules.\n",
    "   - Équilibrage : Égalise les tensions des cellules en série pour prévenir la surcharge ou la décharge excessive.\n",
    "   - Protection : Détecte les anomalies (surchauffe, courts-circuits, etc.) et coupe le circuit si nécessaire.\n",
    "   - Communication : Transmet les données au système de contrôle du véhicule (ECU).\n",
    "   - Gestion thermique : Interface avec les systèmes de refroidissement pour éviter la surchauffe.\n",
    "- **Systèmes de refroidissement :** La gestion thermique est cruciale pour maintenir les performances et éviter les dégradations des cellules.\n",
    "   - Refroidissement par air : Utilise des flux d'air forcé pour dissiper la chaleur (simple, mais moins efficace).\n",
    "   - Refroidissement liquide : Utilise des circuits de liquide caloporteur circulant dans les modules ou  des plaques froides (plus complexe, mais très efficace).\n",
    ":::\n"
   ]
  },
  {
   "cell_type": "markdown",
   "id": "daebaa9a",
   "metadata": {},
   "source": [
    "##  Notations générales associées aux batteries\n",
    "\n",
    "Voici quelques grandeurs et notations associées aux batteries:\n",
    "- **Capacité nominale (C) :** Mesurée en ampères-heures (Ah), elle représente la quantité totale de charge que la batterie peut stocker.\n",
    "- **Taux de décharge (C-rate) :** il mesure la vitesse à laquelle une batterie est déchargée. 1C signifie que la batterie est déchargée en une heure, 2C en 30 minutes.\n",
    "- **Énergie spécifique et densité énergétique :** \n",
    "    - Énergie spécifique (Wh/kg) : Énergie stockée par unité de poids.\n",
    "    - Densité énergétique (Wh/L) : Énergie stockée par unité de volume.\n",
    "- **Tension nominale (V) :** Tension moyenne d’une cellule ou d’un pack dans des conditions normales.\n",
    "- **Cycle de vie ! ** Nombre de cycles de charge-décharge qu’une batterie peut effectuer avant que sa capacité ne tombe sous un seuil (généralement 80 % de la capacité initiale).\n",
    "- **SOC (State of Charge) :** Représente le pourcentage de charge restante.\n",
    "- **IR (Internal Resistance) :** Résistance interne de la batterie, qui affecte la puissance maximale et les pertes thermiques.\n",
    "\n",
    "*Batterie LiPo*  \n",
    "![Pack Lipo](./figures/LipoExample.png)\n",
    "\n",
    "\n",
    "> **Question**: Calculer la puissance spécifique et l'énergie spécifique de cette batterie LiPo de 273g.\n"
   ]
  },
  {
   "cell_type": "markdown",
   "id": "85a651d4",
   "metadata": {},
   "source": [
    "## Modélisation système d'une batterie\n",
    "\n",
    "La modélisation d'une batterie nécessite une approche couplée électro-thermique [[Damay, 2016](#Références)] combinant des modèles électriques (tels que le circuit Randles) avec des modèles thermiques pour simuler à la fois les pertes électriques et les effets thermiques. Ces approches prennent en compte la diffusion des ions aux seins des matériaux actifs des électrodes et l’électrolyte et la génération de chaleur interne due au courant de charge et décharge.\n",
    "\n",
    "\n",
    "*Couplage entre les modèles thermique, électrique et de génération de chaleur*\n",
    "![Couplage de modeles](./figures/ElectroThermiqueBat.PNG)\n",
    "\n"
   ]
  },
  {
   "cell_type": "markdown",
   "id": "267f31f0",
   "metadata": {},
   "source": [
    "## Références\n",
    "\n",
    "**[Damay, 20016]** Damay, N. M. R., Friedrich, G., & Forgez, C. (2016, June). Modelisation thermique en vue du dimensionnement d'un pack batterie, avec prise en compte du couplage electro-thermique pour la caracterisation des pertes electriques. In Symposium de Genie Electrique. [Link](https://hal.science/hal-01361630/document)  "
   ]
  },
  {
   "cell_type": "code",
   "execution_count": null,
   "id": "25cad13c",
   "metadata": {},
   "outputs": [],
   "source": []
  }
 ],
 "metadata": {
  "kernelspec": {
   "display_name": "Python 3 (ipykernel)",
   "language": "python",
   "name": "python3"
  },
  "language_info": {
   "codemirror_mode": {
    "name": "ipython",
    "version": 3
   },
   "file_extension": ".py",
   "mimetype": "text/x-python",
   "name": "python",
   "nbconvert_exporter": "python",
   "pygments_lexer": "ipython3",
   "version": "3.9.13"
  }
 },
 "nbformat": 4,
 "nbformat_minor": 5
}
