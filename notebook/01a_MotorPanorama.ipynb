{
 "cells": [
  {
   "cell_type": "markdown",
   "id": "0a1c3f45-bcd9-4973-9680-e1688cd794ce",
   "metadata": {},
   "source": [
    "# Motorisation des véhicules électriques\n",
    "\n",
    "\n",
    "## Classification des motorisations de véhicules électriques  \n",
    "\n",
    "Les motorisations électriques pour voitures se classent en quatre grandes catégories :\n",
    "\n",
    "- Moteurs à courant continu (DC) : Historiques, comme les moteurs à balais ou à excitation série. Simples à contrôler, mais moins efficaces et nécessitant un entretien régulier.\n",
    "- Moteurs synchrones à aimants permanents (PMSM) : Très répandus, offrant un haut rendement et un couple élevé, mais coûteux en raison des aimants.\n",
    "- Moteurs asynchrones (induction) : Robustes, sans aimants, moins coûteux, et utilisés dans des véhicules comme les premières Tesla.\n",
    "- Moteurs synchrones à reluctance commutée : Prometteurs, sans aimants, efficaces et durables, mais encore émergents.\n",
    "\n",
    "*Figure - Classification des moteurs de véhicules électrique*\n",
    "![Test Goupil](./figures/ClassificationEVdrives.PNG)"
   ]
  },
  {
   "cell_type": "markdown",
   "id": "85a651d4",
   "metadata": {},
   "source": [
    "## Moteurs à courant continu\n",
    "\n",
    "Bien que les moteurs à courant continu à balais soient aujourd’hui largement remplacés par des moteurs synchrones à aimants permanents ou des moteurs asynchrones, ils ont joué un rôle important dans les premières applications de la propulsion électrique. Dans les années 1990, certaines premières versions de véhicules électriques, comme les premiers prototypes de la GM EV1, la Berlingo ou la peugeot 106 ont utilisé des moteurs à courant continu à balais. Ces moteurs présentaient plusieurs avantages pour cette époque :\n",
    "- Simplicité de contrôle : Les moteurs à courant continu sont faciles à contrôler grâce à des variateurs relativement simples.\n",
    "- Couple élevé à basse vitesse : Le couple maximal est disponible dès le démarrage, ce qui est idéal pour les applications automobiles.\n",
    "- Technologie bien maîtrisée : À l’époque, les moteurs à courant continu étaient largement utilisés dans l’industrie, ce qui réduisait les coûts et les risques techniques.\n",
    "\n",
    "Cependant, ces moteurs avaient aussi des inconvénients notables :\n",
    "- Usure des balais : Les balais nécessitent un entretien régulier et limitent la durée de vie du moteur.\n",
    "- Rendement limité : Les pertes dues aux frottements des balais et la dissipation thermique dans le collecteur rendent ces moteurs moins efficaces.\n",
    "- Dimensions et poids : Par rapport aux moteurs modernes, ils étaient plus volumineux pour une même puissance.\n",
    "\n",
    "*Groupe de propulsion électrique [PSA](https://fr.wikipedia.org/wiki/Centre_technique_Stellantis_de_Carri%C3%A8res-sous-Poissy)*\n",
    "![GMP PSA](./figures/PSA-LeroySomer.JPG)\n",
    "> **Groupe de propulsion électrique PSA** : 20 kW à 5 500 tr/min, moteur à courant continu SA13 de Leroy-Somer, permettant une vitesse de 91 km/h, avec un ratio fixe ; En arrière en haut: accumulateur nickel-cadmium de Saft : capacité 100 ampères-heures, 120 volts, 300 kg ; durable et résistant au froid. Au devant, bloc électronique Sagem pilotant le moteur, la gestion des charges normales via un chargeur embarqué de 3 kW ou rapides via une station externe (20 min à 130 A). Pour Peugeot 106, Citroën Saxo (les deux best-sellers), Citroën AX, Citroën Berlingo et Peugeot Partner (moteur SA18 de Leroy-Somer), soit un total de plus de 10 000 exemplaires.\n",
    "\n",
    "*Moteur et variateur du [Berlingo Electrique](http://boursinp.free.fr/velec/pdf/ciberl.pdf)*\n",
    "![Moteur](./figures/GMPBerlingo.PNG)\n",
    "![GMP PSA](./figures/VariateurBerlingo.PNG)\n",
    "> **Question:** La Citroën Berlingo Electrique était équipée d'un moteur à courant continu à excitation séparée. Expliquer l'intérêt de cette configuration. "
   ]
  },
  {
   "cell_type": "markdown",
   "id": "31dd6cd0",
   "metadata": {},
   "source": [
    "## Moteurs synchrones\n",
    "\n",
    "LUn moteur synchrone à aimants permanents (PMSM) est constitué d’un rotor équipé d’aimants permanents et d’un stator comportant des bobinages alimentés par un courant triphasé. Le champ magnétique des aimants interagit avec celui généré par le stator pour produire un couple de rotation. Il est alimenté par un onduleur triphasé.\n",
    "Principaux avantages :\n",
    "- Haut rendement : Faibles pertes électriques grâce à l’absence de courant induit dans le rotor.\n",
    "- Couple élevé : Disponible dès le démarrage, idéal pour les véhicules électriques.\n",
    "- Compacité : Une densité de puissance élevée permet de réduire le poids et l’encombrement.\n",
    "- Maintenance réduite : Pas de balais ni de collecteurs à usure rapide.\n",
    "\n",
    "C’est la technologie dominante dans les voitures modernes. \n",
    "\n",
    "*Principaux composants d'une motorisation de voiture moderne [[Matallana, 2019](#Références)]*\n",
    "![Moteur](./figures/PowerModuleInverter.PNG)"
   ]
  },
  {
   "cell_type": "markdown",
   "id": "a8ec90e8",
   "metadata": {},
   "source": [
    "## Moteurs asynchrones\n",
    "\n",
    "Un moteur asynchrone (ou à induction) est constitué d’un stator avec des bobinages alimentés par un courant alternatif triphasé et d’un rotor en cage d’écureuil (barres conductrices entourées de courts-circuits). Le champ magnétique tournant du stator induit des courants dans le rotor, générant un couple de rotation.\n",
    "Principaux avantages :\n",
    "\n",
    "- Robustesse : Absence d’aimants ou de balais, réduisant les risques de défaillance.\n",
    "- Coût modéré : Pas de terres rares, contrairement aux moteurs à aimants permanents.\n",
    "- Fiabilité : Résistant aux variations de température et aux environnements difficiles.\n",
    "- Simplicité de construction : Facilité de fabrication et d’entretien.\n",
    "\n",
    "Ces moteurs sont souvent utilisés pour leur durabilité, comme sur les premières Tesla.\n"
   ]
  },
  {
   "attachments": {},
   "cell_type": "markdown",
   "id": "8c620bb8",
   "metadata": {},
   "source": [
    "## Topologie des différents technologies de moteurs\n",
    "\n",
    "> **Questions**: La figure ci-dessous représente les principales  topologies de moteurs électriques pour véhicules électrique (Moteurs à courant continu (DC), Moteurs synchrones à aimants permanents (PMSM), Moteurs asynchrones (induction), Moteurs synchrones à reluctance). Indiquer leur type, la nature et la position des matériaux utilisés (aimants permanents, tôles en fer magnétique, bobinages en fils de cuivre, barre conductrice en cuivre ou aluminum), leur principe d'alimentation.\n",
    "\n",
    "*Figure - Principales topologies des moteurs de voitures électriques*\n",
    "![Topolgie](./figures/Motors.PNG)"
   ]
  },
  {
   "cell_type": "markdown",
   "id": "69c1ed64",
   "metadata": {},
   "source": [
    "## Références\n",
    "\n",
    "[Chau, 2008] Chau, K. T., Chan, C. C., & Liu, C. (2008). Overview of permanent-magnet brushless drives for electric and hybrid electric vehicles. IEEE Transactions on industrial electronics, 55(6), 2246-2257. [Link](https://ieeexplore.ieee.org/stamp/stamp.jsp?arnumber=4451077)\n",
    "\n",
    "[Matallana, 2019] Matallana, A., Ibarra, E., López, I., Andreu, J., Garate, J. I., Jordà, X., & Rebollo, J. (2019). Power module electronics in HEV/EV applications: New trends in wide-bandgap semiconductor technologies and design aspects. Renewable and Sustainable Energy Reviews, 113, 109264. [Link](https://www.sciencedirect.com/science/article/pii/S1364032119304721)\n"
   ]
  },
  {
   "cell_type": "code",
   "execution_count": null,
   "id": "eeb3e6af",
   "metadata": {},
   "outputs": [],
   "source": []
  }
 ],
 "metadata": {
  "kernelspec": {
   "display_name": "Python 3 (ipykernel)",
   "language": "python",
   "name": "python3"
  },
  "language_info": {
   "codemirror_mode": {
    "name": "ipython",
    "version": 3
   },
   "file_extension": ".py",
   "mimetype": "text/x-python",
   "name": "python",
   "nbconvert_exporter": "python",
   "pygments_lexer": "ipython3",
   "version": "3.9.13"
  }
 },
 "nbformat": 4,
 "nbformat_minor": 5
}
