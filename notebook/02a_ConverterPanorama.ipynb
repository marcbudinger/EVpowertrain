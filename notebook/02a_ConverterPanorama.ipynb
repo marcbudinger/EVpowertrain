{
 "cells": [
  {
   "cell_type": "markdown",
   "id": "0a1c3f45-bcd9-4973-9680-e1688cd794ce",
   "metadata": {},
   "source": [
    "# Convertisseurs statiques : panorama\n",
    "\n",
    "\n",
    "\n"
   ]
  },
  {
   "cell_type": "markdown",
   "id": "31dd6cd0",
   "metadata": {},
   "source": [
    "## Principe de la commutation\n",
    "\n",
    "La modulation de puissance par commutation est une technique utilisée en électronique de puissance pour convertir et réguler l'énergie électrique en activant et désactivant rapidement des interrupteurs électroniques (comme des transistors ou des thyristors). Cette méthode permet de contrôler efficacement la tension, le courant et la puissance en minimisant les pertes par conduction et commutation, car les interrupteurs fonctionnent majoritairement en mode bloqué ou saturé (faibles pertes). Comparée aux régulations linéaires, elle améliore considérablement l'efficacité énergétique et permet une densité de puissance plus élevée grâce à des composants plus compacts et à des fréquences de commutation élevées, réduisant la taille des filtres et des composants magnétiques associés.\n",
    "\n",
    "*Cellule de commutation*  \n",
    "![Cellule de commutation](https://upload.wikimedia.org/wikipedia/commons/thumb/f/f1/Commutation_cell_practical_theroretical.svg/350px-Commutation_cell_practical_theroretical.svg.png)\n",
    ":::{dropdown} Principe de fonctionnement    \n",
    "La cellule de commutation est le circuit de base en électronique de puissance constitué de deux interrupteurs, généralement un transistor et une diode, souvent associés à des éléments de stockage d’énergie comme une inductance ou un condensateur. Son rôle est d’alterner entre des états de conduction et de blocage, permettant ainsi de transférer de l’énergie entre des sources (entrée/sortie). La cellule de commutation doit respecter les règles suivantes:\n",
    "- si connectés à une source de tension (par exemple un condensateur), les 2 interrupeturs ne pourront être fermés en même temps sous peine de créer un court-circuit et de détériorer le matériel. \n",
    "- de même si la cellule est connectée à une source de courant (par exemple une inductance), il n'est pas possible d'ouvrir les deux interrupteurs en même temps sous peine d'avoir une surtension egalement destructrice.\n",
    ":::"
   ]
  },
  {
   "cell_type": "markdown",
   "id": "daebaa9a",
   "metadata": {},
   "source": [
    "##  Principaux types de convertisseurs\n",
    "\n",
    "Les véhicules électriques utilisent plusieurs types de convertisseurs pour gérer l'énergie électrique :\n",
    "\n",
    "- **Convertisseur DC-DC** : Abaisse ou élève la tension entre la batterie de forte puissance et les systèmes basse tension (12V) pour alimenter les accessoires (éclairage, électronique) ou le bus continu de motorisation.\n",
    "- **Onduleur DC-AC** : Convertit le courant continu de la batterie en courant alternatif pour alimenter le moteur électrique. Lors du freinage, il récupère l'énergie cinétique en la convertissant en énergie électrique pour recharger la batterie.\n",
    "- **Convertisseur AC-DC** : Présent dans le chargeur embarqué, il transforme le courant alternatif du réseau en courant continu pour recharger la batterie. Les structures de chargeurs peuvent être [variées](https://www.mdpi.com/2079-9292/12/20/4295).\n",
    "\n",
    "*Principaux convertisseurs statiques d'une PRIUS*\n",
    "![Convertisseurs Prius](./figures/PriusConverters.png)\n",
    "\n",
    "> **Question**: identifier les convertisseurs A, B et C.\n"
   ]
  },
  {
   "cell_type": "markdown",
   "id": "85a651d4",
   "metadata": {},
   "source": [
    "## Modules de puissance\n",
    "\n",
    "L’onduleur d’une voiture électrique est un dispositif clé permettant de convertir la tension continue de la batterie en tension alternative pour alimenter le moteur. Sa composition technologique se fait à partir de modules techologiques fortement intégrés :\n",
    "\n",
    "- **Modules de puissance IGBT** (Insulated Gate Bipolar Transistor) : Ces composants servent d’interrupteurs rapides, permettant de moduler la tension continue en créant une tension alternative grâce à une technique de modulation de largeur d’impulsion (PWM). Chaque module contient plusieurs IGBT intégrés avec leurs diodes de roue libre.  \n",
    "- **Drivers de commande** : Ces circuits contrôlent l’ouverture et la fermeture des IGBT en appliquant des signaux précis à leurs grilles. Ils assurent également une isolation électrique entre le circuit de commande et le circuit de puissance, souvent via des optocoupleurs ou des transformateurs.  \n",
    "- **Condensateurs** : Positionnés en amont du circuit, ils servent de filtre pour lisser la tension continue de la batterie, réduire les ondulations et limiter les variations de courant dans les modules IGBT, augmentant leur fiabilité.  \n",
    "\n",
    "Ces composants sont intégrés sur une carte de puissance, souvent refroidie par un système thermique (air ou liquide) pour dissiper la chaleur générée, et contrôlés par une unité centrale qui adapte la fréquence et l’amplitude de la tension alternative en fonction des besoins du moteur.\n",
    "\n",
    "*Exemple d'onduleur de forte puissance [[Nordelof, 2019](#Références)] [[EPCOS](https://www.powersystemsdesign.com/articles/increasing-inverter-efficiency/18/11434)] [[INFINEON](https://www.infineon.com/cms/de/product/evaluation-boards/ev-inv-hpd1-si-fs820-08/)]*\n",
    "![Onduleur](./figures/InverterCar.png)"
   ]
  },
  {
   "cell_type": "markdown",
   "id": "ff53711c",
   "metadata": {},
   "source": [
    "## Références\n",
    "\n",
    "[Nordelof, 2019] Nordelöf, A., Alatalo, M., & Söderman, M. L. (2019). A scalable life cycle inventory of an automotive power electronic inverter unit—part I: design and composition. The International Journal of Life Cycle Assessment, 24, 78-92. [Link](https://link.springer.com/article/10.1007/s11367-018-1503-3)"
   ]
  },
  {
   "cell_type": "code",
   "execution_count": null,
   "id": "56820115",
   "metadata": {},
   "outputs": [],
   "source": []
  }
 ],
 "metadata": {
  "kernelspec": {
   "display_name": "Python 3 (ipykernel)",
   "language": "python",
   "name": "python3"
  },
  "language_info": {
   "codemirror_mode": {
    "name": "ipython",
    "version": 3
   },
   "file_extension": ".py",
   "mimetype": "text/x-python",
   "name": "python",
   "nbconvert_exporter": "python",
   "pygments_lexer": "ipython3",
   "version": "3.9.13"
  }
 },
 "nbformat": 4,
 "nbformat_minor": 5
}
