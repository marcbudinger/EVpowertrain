{
 "cells": [
  {
   "attachments": {},
   "cell_type": "markdown",
   "id": "0a1c3f45-bcd9-4973-9680-e1688cd794ce",
   "metadata": {},
   "source": [
    "# Sélection d'une motorisation\n",
    "\n",
    "\n",
    "##  Présentation des caractéristiques du véhicule\n",
    "\n",
    "Le [Goupil](https://www.goupil-ev.com/fr/) G4 (**Figure 1**) est un petit utilitaire électrique urbain, utilisé par les villes et les entreprises pour déplacer de petites charges sur de courtes distances (livraison, entretien de parcs, services techniques).\n",
    "\n",
    "*Figure 1 – Véhicule utilitaire électrique Goupil*  \n",
    "![Véhicule utilitaire électrique Goupil G4 Long 9 kWh Lithium 2 CV](./figures/GoupilG4.jpg)  \n",
    "\n",
    "L’objectif de ce problème est de simuler la dynamique longitudinale du véhicule et sa transmission de puissance afin de sélectionner une motorisation électrique. Le **Tableau 1** donne les principales caractéristiques des différents composants mécaniques du Goupil G4.\n",
    "\n",
    "*Tableau 1 – Caractéristiques générales du Goupil G4 et de ses composants mécaniques*\n",
    "\n",
    "| Caractéristiques générales |  |  \n",
    "| --- | --- |  \n",
    "|Masse du Goupil G4 (sans batterie) | 582 kg |  \n",
    "|Masse du pack batterie | 148 kg |   \n",
    "|Masse du conducteur | 70 kg |   \n",
    "|Masse du chargement | 500 kg |  \n",
    "|Vitesse maximale | 50 km/h |  \n",
    "| Pente maximale | 15% |\n",
    "\n",
    "| Roues |  |  \n",
    "| --- | --- |  \n",
    "|Diamètre extérieur | 578 mm |  \n",
    "|Coefficient de résistance au roulement | 100.10<sup>-4 |   \n",
    "|Inertie d’une roue| 0.42 kg.m² |   \n",
    "\n",
    "| Réducteur |  |  \n",
    "| --- | --- |  \n",
    "|Rapport de réduction | 14.87 |  \n",
    "|Inertie (sur axe rapide) | 0.57.10<sup>-4 </sup>kg.m²|   \n",
    "|Rendement| 0.88 |  \n",
    "\n",
    "| Considérations aérodynamiques |  |  \n",
    "| --- | --- |  \n",
    "|Surface de pénétration dans l’air (S) | 2.1 m2 |  \n",
    "|Masse volumique de l’air à 20°C| 1.205 kg. m<sup>-3|   \n",
    "|Coefficient de pénétration dans l’air| 0.4 |\n"
   ]
  },
  {
   "cell_type": "markdown",
   "id": "0fb363e3",
   "metadata": {},
   "source": [
    "## Modélisation de la dynamique longitudinale\n",
    "\n",
    "Un modèle mécanique longitudinal [[DUYSINX, 2020](#Références)] permet d'estimer la puissance motrice nécessaire pour assurer certains points de fonctionnement du véhicule. Il peut servir également de base pour prédire des consommations énergétiques sur cycles. \n",
    "\n",
    "> **Question :** Proposez un diagramme 0D/1D et donnez les équations correspondantes permettant de modéliser la dynamique du Goupil en translation en prenant notamment en compte les forces suivantes:\n",
    ">-   L’inertie en translation du Goupil et du conducteur;\n",
    ">-   L’effet de la gravité dans une pente;\n",
    ">-   Les efforts aérodynamiques\n",
    ">    $F_{aero} = \\frac{1}{2}.\\rho_{air}C_{x}S.v^{2} \\approx 0.5061.v^{2}$ en N où *v* correspond à la vitesse du Goupil en m/s ;\n",
    ">-   Les efforts de résistance au roulement proportionnels à l’effort     normal sur les roues et au coefficient de résistance de roulement *C<sub>rr</sub>* des pneus. Sur route, avec un gonflage adéquat, on considèrera *C<sub>rr</sub>* = 100.10<sup>-4</sup>.\n",
    "\n",
    "Implémentez ce modèle dans la brique vide du modèle *Goupil* du fichier Modelica [fourni](). L’entrée de type signal correspond à la pente (où 0.07 correspond à une pente de 7%). Le port mécanique permettra de modéliser les efforts équivalents de la motorisation.\n",
    "\n",
    "**Remarque 1** : *GoupilMass, Crr, Alpha (0,3), g* sont des coefficients declarés dans le modèle *Goupil*.\n",
    "\n",
    "**Remarque 2** : Pour votre modèle vous pouvez utiliser des modèles de la librairie standard (MSL) comme\n",
    "-   dans *Modelica/Mechanics/Translational/* les sources d’effort (*Sources/Force*) et composants de type inertie ou frottement (*Components/Mass, Components/SupportFriction*);\n",
    "-   dans *Modelica/Blocks/Math* : *Sum, Product, Gain, Atan, Sin, …* \n",
    "\n",
    "> **Question :** Calculez analytiquement l’effort à fournir pour obtenir en régime permanent une vitesse *v* = 30 km/h sur une pente de 7%. Validez par simulation ce résultat en utilisant le modèle *TestGoupil*."
   ]
  },
  {
   "cell_type": "markdown",
   "id": "0478332e",
   "metadata": {},
   "source": [
    "## Modélisation de la transmission de puissance**\n",
    "\n",
    "L’ensemble des deux réducteurs (différentiel et à pignons droits) peut se représenter par un réducteur équivalent présentant les caractéristiques suivantes :  inertie sur l’axe rapide 0,57 kg.cm<sup>2</sup>, rapport de réduction global 14.87, rendement global de 88%. Les effets des raideurs ne sont pas pris en compte ici.\n",
    "\n",
    "> **Question :**  Calculez analytiquement pour le point opérationnel précédent (vitesse constante de 30 km/h, pente de 7%):\n",
    ">-   La vitesse angulaire de la roue et la vitesse du moteur électrique (sur l’axe rapide du réducteur équivalent) ;\n",
    ">-   Les pertes du réducteur ;\n",
    ">-   La puissance mécanique sur l’axe rapide ;\n",
    ">-   Le couple et la puissance du moteur ;\n",
    "\n",
    "Paramétrez et simulez le modèle *TestSlopeMotor*. Ce modèle représente un profil de mission que le Goupil doit être capable de réaliser en fonctionnement nominal avec un chargement de 500 kg.\n",
    "\n",
    "> **Question :**   Calculez la masse équivalente des inerties des roues et du réducteur. Conclure quant à leurs impacts sur la dynamique du système. Retrouvez ce résultat sur le modèle *TestSlopeMotor.*\n",
    "\n"
   ]
  },
  {
   "cell_type": "markdown",
   "id": "8ab886a9",
   "metadata": {},
   "source": [
    "## Simulation d'un profil d'utilisation\n",
    "\n",
    "On souhaite à présent modéliser un profil d’utilisation plus représentatif des conditions réelles d’utilisation du véhicule. Complétez pour cela le modèle *TestProfile_Cycle*:  \n",
    "- le bloc *SpeedTable* fournit l’évolution du profil de vitesse au cours du temps \n",
    "- le bloc *SlopeTable* founrit l’évolution de la pente en fonction de la position du véhicule.\n",
    "\n",
    "> **Question:** Relevez la puissance maximale à fournir par le moteur pour réaliser cette mission et le couple RMS en fin de cycle.   Établissez le profil vitesse de rotation et couple moteur pour réaliser ce cycle.\n",
    "\n",
    "**Remarque** : le Root Mean Square Torque (couple RMS) est la moyenne quadratique du couple au cours d’un cycle. Pour des considérations thermiques, il faut que ce couple soit inférieur au couple nominal du moteur.\n",
    "\n",
    "**Remarque** : Sur Dymola, après simulation, vous pouvez changer la variable des abscisses de votre graphe en utilisant l'outil *Indepent Variable* de l’onglet *Plot Options*. Vous devez au préalable avoir sélectionné dans l’arborescence *Variable Browser* la variable que vous souhaitez utiliser comme référence.\n"
   ]
  },
  {
   "cell_type": "markdown",
   "id": "74f9b7fb",
   "metadata": {},
   "source": [
    "## Sélection d'un moteur\n",
    "\n",
    "Nous souhaitons utiliser un moteur IP54 CH6 de la marque ABB. A partir du **Tableau 4** et du **Graphe 1**.\n",
    "\n",
    "> *Question:* Sélectionnez une configuration de bobinage (*Speed 1, 2, 3, 5, 7* pour un prototype de ce véhicule ?\n",
    "\n",
    "**Remarque** : Pour une même architecture de moteur, jouer sur le nombre de spires du bobinage (et de ce fait sur sa section) permet d’obtenir des caractéristiques de moteur différentes.\n",
    "\n",
    "> <img src=\"attachment:media/image2.png\"\n",
    "> style=\"width:6.53577in;height:1.31944in\" />\n",
    "\n",
    "**Tableau 2***– Moteurs asynchrones de la marque ABB\n",
    "\n",
    "<img src=\"attachment:media/image3.png\"\n",
    "style=\"width:5.9108in;height:4.42654in\" />\n",
    "\n",
    "**Graphe 1** *–* Profils d’utilisation des moteurs des différentes\n",
    "configuration moteur"
   ]
  },
  {
   "cell_type": "markdown",
   "id": "7e1a355d",
   "metadata": {},
   "source": [
    "## Références\n",
    "\n",
    "[DUYSINX, 2020] DUYSINX, Pierre. \"MECA0525: PERFORMANCES ET COMPORTEMENT DES VEHICULES\", Universite de Liège. [Link](http://www.ingveh.ulg.ac.be/uploads/education/MECA0525/notes/MECA0525.pdf)"
   ]
  },
  {
   "cell_type": "code",
   "execution_count": null,
   "id": "dbcaa3fa",
   "metadata": {},
   "outputs": [],
   "source": []
  }
 ],
 "metadata": {
  "kernelspec": {
   "display_name": "Python 3 (ipykernel)",
   "language": "python",
   "name": "python3"
  },
  "language_info": {
   "codemirror_mode": {
    "name": "ipython",
    "version": 3
   },
   "file_extension": ".py",
   "mimetype": "text/x-python",
   "name": "python",
   "nbconvert_exporter": "python",
   "pygments_lexer": "ipython3",
   "version": "3.9.13"
  }
 },
 "nbformat": 4,
 "nbformat_minor": 5
}
