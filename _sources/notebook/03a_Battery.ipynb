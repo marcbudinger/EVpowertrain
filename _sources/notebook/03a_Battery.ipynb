{
 "cells": [
  {
   "cell_type": "markdown",
   "id": "0a1c3f45-bcd9-4973-9680-e1688cd794ce",
   "metadata": {},
   "source": [
    "# Simulation d'une batterie de véhicule électrique\n",
    "\n",
    "\n",
    "##  De la cellule au pack batterie\n"
   ]
  },
  {
   "cell_type": "markdown",
   "id": "85a651d4",
   "metadata": {},
   "source": [
    "## Caractéristiques fondamentales d'une cellule\n",
    "\n"
   ]
  },
  {
   "cell_type": "markdown",
   "id": "a8ec90e8",
   "metadata": {},
   "source": [
    "## Calcul des pertes et des échanges de chaleur\n"
   ]
  },
  {
   "cell_type": "markdown",
   "id": "31dd6cd0",
   "metadata": {},
   "source": [
    "## Modélisation d'un pack batterie complet\n",
    "\n"
   ]
  },
  {
   "cell_type": "code",
   "execution_count": null,
   "id": "eeb3e6af",
   "metadata": {},
   "outputs": [],
   "source": []
  }
 ],
 "metadata": {
  "kernelspec": {
   "display_name": "Python 3 (ipykernel)",
   "language": "python",
   "name": "python3"
  },
  "language_info": {
   "codemirror_mode": {
    "name": "ipython",
    "version": 3
   },
   "file_extension": ".py",
   "mimetype": "text/x-python",
   "name": "python",
   "nbconvert_exporter": "python",
   "pygments_lexer": "ipython3",
   "version": "3.9.13"
  }
 },
 "nbformat": 4,
 "nbformat_minor": 5
}
