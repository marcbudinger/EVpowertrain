{
 "cells": [
  {
   "cell_type": "markdown",
   "metadata": {},
   "source": [
    "# Groupe motopropulseur pour véhicules électriques\n",
    "\n",
    "*Written by Marc Budinger, INSA Toulouse, France*\n"
   ]
  },
  {
   "cell_type": "markdown",
   "metadata": {},
   "source": [
    "Avant de concevoir, dimensionner ou modéliser un système, il est important de définir et de lister méticuleusement : \n",
    "- les composants de puissance à représenter ou dimensionner dans l'architecture\n",
    "- les critères et paramètres utiles à la représentation des scénarios d'utilisation du système.\n",
    "\n",
    "## Principales briques technologiques\n",
    "\n",
    "Le groupe motopropulseur électrique des véhicules utilitaires légers électriques est basé sur : \n",
    "- une batterie\n",
    "- un moteur synchrone à aimant permanent (PMSM Permanent Magnet Synchronous Machine) ou un moteur asynchrone (IM Induction Machine)\n",
    "- un onduleur qui contrôle le flux d'énergie entre la batterie et le moteur\n",
    "- une unité de commande du véhicule (EVCU) qui assure l'interface entre le groupe motopropulseur et les équipements du véhicule.\n",
    "- un système de refroidissement \n",
    "\n",
    "*Moteur + Onduleur + EVCU de la société ACTIA*\n",
    "![MotorInverter](./figures/MotorInverter.png)\n",
    "\n",
    "*Coupe de la Nissan Leaf montrant une partie de la batterie*\n",
    "![BatteryPack](./figures/BatteryPack_Nissan_Leaf.JPG)\n",
    "\n",
    "*Système de refroidissement d'une Audi quattro hybride*  \n",
    "![CoolingSystem](./figures/thermal_management_audi.jpg)\n",
    "\n",
    "La masse ajoutée par ces systèmes et notemment la batterie peuvent avoir un impact sur la conception des systèmes de freinage et la suspension du véhicule. L'ajout d'une direction et d'un freinage pilotés permet aussi de constituer une base technologique pour développer des véhicules autonomes. \n"
   ]
  },
  {
   "cell_type": "markdown",
   "metadata": {},
   "source": [
    "## Architecture générale d'une chaine de propulsion électrique\n",
    "\n",
    "La Figure ci-dessous réprésente l'architecture générale de la chaine d'énergie d'un véhicule électrique sur batterie. Cette configuration peut être complétée et complexifiée dans le cas de véhicules hybrides. \n",
    "\n",
    "*Architecture générale d'un véhicule électrique [[Liu, 2012](#Références)]*  \n",
    "![EV configuration](./figures/EVconfiguration.PNG)\n",
    "\n",
    "> **Question:** Préciser les types de convertisseur statique (électronique de puissance) sur cette architecture et leurs fonctions. \n",
    "\n"
   ]
  },
  {
   "cell_type": "markdown",
   "metadata": {},
   "source": [
    "## Références\n",
    "\n",
    "[Liu, 2012]Liu, W., Torsten, H., & Drobnik, J. (2012). Effective thermal simulation of power electronics in hybrid and electric vehicles. World Electric Vehicle Journal, 5(2), 574-580."
   ]
  },
  {
   "cell_type": "code",
   "execution_count": null,
   "metadata": {},
   "outputs": [],
   "source": []
  }
 ],
 "metadata": {
  "kernelspec": {
   "display_name": "Python 3 (ipykernel)",
   "language": "python",
   "name": "python3"
  },
  "language_info": {
   "codemirror_mode": {
    "name": "ipython",
    "version": 3
   },
   "file_extension": ".py",
   "mimetype": "text/x-python",
   "name": "python",
   "nbconvert_exporter": "python",
   "pygments_lexer": "ipython3",
   "version": "3.9.13"
  }
 },
 "nbformat": 4,
 "nbformat_minor": 4
}
