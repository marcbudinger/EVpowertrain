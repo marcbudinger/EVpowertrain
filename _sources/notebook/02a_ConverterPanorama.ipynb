{
 "cells": [
  {
   "cell_type": "markdown",
   "id": "0a1c3f45-bcd9-4973-9680-e1688cd794ce",
   "metadata": {},
   "source": [
    "# Convertisseurs statiques : panorama\n",
    "\n",
    "\n",
    "\n"
   ]
  },
  {
   "cell_type": "markdown",
   "id": "31dd6cd0",
   "metadata": {},
   "source": [
    "## Principe de la commutation\n",
    "\n"
   ]
  },
  {
   "cell_type": "markdown",
   "id": "daebaa9a",
   "metadata": {},
   "source": [
    "##  Principaux types de convertisseurs\n",
    "\n",
    "Les véhicules électriques utilisent plusieurs types de convertisseurs pour gérer l'énergie électrique :\n",
    "\n",
    "- Convertisseur DC-DC : Abaisse ou élève la tension entre la batterie de forte puissance et les systèmes basse tension (12V) pour alimenter les accessoires (éclairage, électronique) ou le bus continu de motorisation.\n",
    "- Onduleur DC-AC : Convertit le courant continu de la batterie en courant alternatif pour alimenter le moteur électrique. Lors du freinage, il récupère l'énergie cinétique en la convertissant en énergie électrique pour recharger la batterie.\n",
    "- Convertisseur AC-DC : Présent dans le chargeur embarqué, il transforme le courant alternatif du réseau en courant continu pour recharger la batterie.\n",
    "\n",
    "*Principaux convertisseurs statiques d'une PRIUS*\n",
    "![Convertisseurs Prius](./figures/PriusConverters.png)"
   ]
  },
  {
   "cell_type": "markdown",
   "id": "85a651d4",
   "metadata": {},
   "source": [
    "## Modules de puissance\n",
    "\n"
   ]
  },
  {
   "cell_type": "code",
   "execution_count": null,
   "id": "eeb3e6af",
   "metadata": {},
   "outputs": [],
   "source": []
  }
 ],
 "metadata": {
  "kernelspec": {
   "display_name": "Python 3 (ipykernel)",
   "language": "python",
   "name": "python3"
  },
  "language_info": {
   "codemirror_mode": {
    "name": "ipython",
    "version": 3
   },
   "file_extension": ".py",
   "mimetype": "text/x-python",
   "name": "python",
   "nbconvert_exporter": "python",
   "pygments_lexer": "ipython3",
   "version": "3.9.13"
  }
 },
 "nbformat": 4,
 "nbformat_minor": 5
}
