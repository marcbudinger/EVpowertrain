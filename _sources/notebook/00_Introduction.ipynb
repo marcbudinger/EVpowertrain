{
 "cells": [
  {
   "cell_type": "markdown",
   "metadata": {},
   "source": [
    "# Architecture système d'un véhicule électrique\n",
    "\n",
    "*Written by Marc Budinger, INSA Toulouse, France*\n"
   ]
  },
  {
   "cell_type": "markdown",
   "metadata": {},
   "source": [
    "## Empreinte carbone de la mobilité\n",
    "\n",
    "La Stratégie Nationale Bas-Carbone ([SNBC](https://www.ecologie.gouv.fr/sites/default/files/19092_strategie-carbone-EN_oct-20.pdf)) est la feuille de route de la France pour réduire ses émissions de gaz à effet de serre (GES). Elle concerne tous les secteurs d'activité et doit être portée par tous : citoyens, collectivités locales et entreprises. L'objectif est de diviser par 5 les émissions de gaz à effet de serre d'ici 2050 par rapport à 2015. Les transports représentent une part importante de ces émissions (environ 30 %) et devront donc évoluer pour atteindre ces objectifs. \n",
    "\n",
    "*Émissions de gaz à effet de serre (GES) et absorption en France en 2017 - Scénario prospectif de la SNCB pour atteindre la neutralité carbone en 2050*\n",
    "\n",
    "![SNBC](./figures/French_SNCB.png)\n",
    "\n",
    "Les travaux d'Aurélien Bigo [Bigo, 2020](#Références) sur l'impact CO2 des transports retiennent cinq facteurs ou cinq leviers de décarbonation : la demande, le report modal, le taux d'occupation, l'efficacité énergétique et l'intensité carbone. Des véhicules électriques peuvent participer à la décabornation des transports s'ils sont utilisés à la place de transports plus polluants.  \n",
    "\n",
    "*Les cinq leviers clés de la décarbonisation des transports, utilisés dans la décomposition des émissions*\n",
    "![Levers](./figures/TransportCO2.PNG)\n",
    "\n"
   ]
  },
  {
   "cell_type": "markdown",
   "metadata": {},
   "source": [
    "## Groupe motopropulseur pour véhicules électriques\n",
    "\n",
    "Avant de concevoir, dimensionner ou modéliser un système, il est important de définir et de lister méticuleusement : \n",
    "- les composants de puissance à représenter ou dimensionner dans l'architecture\n",
    "- les critères et paramètres utiles à la représentation des scénarios d'utilisation du système.\n",
    "\n",
    "Le groupe motopropulseur électrique des véhicules utilitaires légers électriques est basé sur : \n",
    "- une batterie\n",
    "- un moteur synchrone à aimant permanent (PMSM Permanent Magnet Synchronous Machine) ou un moteur asynchrone (IM Induction Machine)\n",
    "- un onduleur qui contrôle le flux d'énergie entre la batterie et le moteur\n",
    "- une unité de commande du véhicule (EVCU) qui assure l'interface entre le groupe motopropulseur et les équipements du véhicule.\n",
    "- un système de refroidissement \n",
    "\n",
    "*Moteur + Onduleur + EVCU de la société ACTIA*\n",
    "![MotorInverter](./figures/MotorInverter.png)\n",
    "\n",
    "*Coupe de la Nissan Leaf montrant une partie de la batterie*\n",
    "![BatteryPack](./figures/BatteryPack_Nissan_Leaf.JPG)\n",
    "\n",
    "*Système de refroidissement d'une Audi quattro hybride*  \n",
    "![CoolingSystem](./figures/thermal_management_audi.jpg)\n",
    "\n",
    "La masse ajoutée par ces systèmes et notemment la batterie peuvent avoir un impact sur la conception des systèmes de freinage et la suspension du véhicule. L'ajout d'une direction et d'un freinage piloté permet aussi constituer une base technologiques pour développer des véhicule autonome. \n"
   ]
  },
  {
   "cell_type": "markdown",
   "metadata": {},
   "source": [
    "## Architecture \n",
    "\n",
    "La Figure ci-dessous réprésente l'architecture générale de la chaine d'énergie d'un véhicule électrique sur batterie. Cette configuration peut être complétée et complexifiée dans le cas de véhicules hybrides. \n",
    "\n",
    "*Architecture générale d'un véhicule électrique [[Liu, 2012](#Références)]*  \n",
    "![EV configuration](./figures/EVconfiguration.PNG)\n",
    "\n",
    "> **Question:** Préciser les types de convertisseur statique (électronique de puissance) sur cette architecture et leurs fonctions. \n",
    "\n"
   ]
  },
  {
   "cell_type": "markdown",
   "metadata": {},
   "source": [
    "## Références\n",
    "\n",
    "[Bigo, 2020] Bigo, A. (2020). Transport facing the challenge of energy transition. Explorations between the past and the future, technology and sufficiency, acceleration and slowdown (Doctoral dissertation, Institut Polytechnique de Paris).  \n",
    "\n",
    "[Liu, 2012]Liu, W., Torsten, H., & Drobnik, J. (2012). Effective thermal simulation of power electronics in hybrid and electric vehicles. World Electric Vehicle Journal, 5(2), 574-580."
   ]
  },
  {
   "cell_type": "code",
   "execution_count": null,
   "metadata": {},
   "outputs": [],
   "source": []
  }
 ],
 "metadata": {
  "kernelspec": {
   "display_name": "Python 3 (ipykernel)",
   "language": "python",
   "name": "python3"
  },
  "language_info": {
   "codemirror_mode": {
    "name": "ipython",
    "version": 3
   },
   "file_extension": ".py",
   "mimetype": "text/x-python",
   "name": "python",
   "nbconvert_exporter": "python",
   "pygments_lexer": "ipython3",
   "version": "3.9.13"
  }
 },
 "nbformat": 4,
 "nbformat_minor": 4
}
